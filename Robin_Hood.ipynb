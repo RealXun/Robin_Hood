{
  "cells": [
    {
      "cell_type": "markdown",
      "metadata": {},
      "source": [
        "# Robin Hood: \n",
        "We're in the middle of the competition to win the archery contest in Sherwood. With our bow and arrows we shoot at a target and try to hit as much as possible in the center.\n",
        "\n",
        "The center of the target is represented by the values ​​(0, 0) on the coordinate axes. \n",
        "\n",
        "## Description: \n",
        "In 2-dimensional space a point can be defined by a pair of values ​​that correspond to the horizontal (x) and vertical (y) coordinates. The space can be divided into 4 zones (quadrants): Q1, Q2, Q3, Q4. Whose unique joining point is the point (0, 0).\n",
        "\n",
        "If a point is in Q1, both its x and y coordinates are positive. I leave you a link to wikipedia so you can familiarize yourself with these quadrants.\n",
        "\n",
        "https://es.wikipedia.org/wiki/Coordenadas_cartesianas\n",
        "\n",
        "https://es.wikipedia.org/wiki/Distancia_euclidiana\n",
        "\n",
        "## Objectives: \n",
        "* data structures: lists, sets, tuples\n",
        "* logical operators: if-elif-else\n",
        "* loop: while/for\n",
        "* calculation of minimum (optional sorting)\n",
        "\n",
        "## Tasks\n",
        "1. Robin Hood is famous for hitting an arrow with another arrow. Have you got it?\n",
        "2. Calculate how many arrows have fallen in each quadrant.\n",
        "3. Find the point closest to the center. Calculate its distance from the center\n",
        "4. If the target has a radius of 9, calculate the number of arrows that must be collected from the forest.\n",
        "\n",
        "## Solution:"
      ]
    },
    {
      "cell_type": "code",
      "execution_count": 13,
      "metadata": {
        "trusted": true
      },
      "outputs": [
        {
          "name": "stdout",
          "output_type": "stream",
          "text": [
            "Robin Hood hitted this arrow with another arrow : {(4, 5), (5, 7), (-3, 2), (2, 2)}\n",
            "\n",
            "Shots in quadrant 1 =  11\n",
            "Shots in quadrant 2 =  6\n",
            "Shots in quadrant 3 =  2\n",
            "Shots in quadrant 4 =  3\n",
            "\n",
            "The list of failed shots is:  [(9, 9), (-8, -9)]\n",
            "The number of failed shots are:  2\n"
          ]
        }
      ],
      "source": [
        "puntos = [(4,5), (-0,2), (4,7), (1,-3), (3,-2), (4,5), (3,2), (5,7), (-5,7), (2,2), (-4,5), (0,-2), (-4,7), (-1,3), (-3,2), (-4,-5), (-3,2), \n",
        "          (5,7), (5,7), (2,2), (9, 9), (-8, -9)]\n",
        "#1. Robin Hood is famous for hitting an arrow with another arrow. Has he got it?\n",
        "res = set([point for point in points if points.count(point) > 1])\n",
        "print(\"Robin Hood hitted this arrow with another arrow : \" + str(res))\n",
        "# 2. Calculate how many arrows have fallen in each quadrant.\n",
        "q1 = []\n",
        "q2 = []\n",
        "q3 = []\n",
        "q4 = []\n",
        "center = 0\n",
        "shot1, shot2 = zip(*points)\n",
        "for point in range(len(shot1)):\n",
        "    if (shot1[point] >= 0 and shot2[point] >= 0):\n",
        "        q1.append(point)\n",
        "    elif (shot1[point] < 0 and shot2[point] >= 0):\n",
        "        q2.append(point)\n",
        "    elif (shot1[point] < 0 and shot2[point] < 0):\n",
        "        q3.append(point)\n",
        "    elif (shot1[point] >= 0 and shot2[point] < 0):\n",
        "        q4.append(point)\n",
        "print('\\nShots in quadrant 1 = ', len(q1))\n",
        "print('Shots in quadrant 2 = ', len(q2))\n",
        "print('Shots in quadrant 3 = ', len(q3))\n",
        "print('Shots in quadrant 4 = ', len(q4))\n",
        "# 3. Find the closest point to the center. Calculate its distance from the center\n",
        "# Defining a function that calculates the distance to the center can help.\n",
        "\n",
        "#The Solution is Coming soon!!!!!!\n",
        "\n",
        "# 4. If the target has a radius of 9, calculate the number of arrows to collect from the forest.\n",
        "shots_failed = []\n",
        "\n",
        "for point in points:\n",
        "    if (abs(point[0]) >= 9 or abs(point[1]) >= 9):\n",
        "        shots_failed.append(point)\n",
        "        \n",
        "print('\\nThe list of failed shots is: ', shots_failed)\n",
        "print('The number of failed shots are: ', len(shots_failed))\n"
      ]
    }
  ],
  "metadata": {
    "kernelspec": {
      "display_name": "Python 3.7.4 64-bit",
      "language": "python",
      "name": "python3"
    },
    "language_info": {
      "codemirror_mode": {
        "name": "ipython",
        "version": 3
      },
      "file_extension": ".py",
      "mimetype": "text/x-python",
      "name": "python",
      "nbconvert_exporter": "python",
      "pygments_lexer": "ipython3",
      "version": "3.7.4"
    },
    "vscode": {
      "interpreter": {
        "hash": "e447912bd1abc126f1a1b02664d51750c99209b93aa0b1eb72bb880925256d69"
      }
    }
  },
  "nbformat": 4,
  "nbformat_minor": 4
}
