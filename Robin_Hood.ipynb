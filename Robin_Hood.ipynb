{
  "metadata": {
    "kernelspec": {
      "name": "python",
      "display_name": "Python (Pyodide)",
      "language": "python"
    },
    "language_info": {
      "codemirror_mode": {
        "name": "python",
        "version": 3
      },
      "file_extension": ".py",
      "mimetype": "text/x-python",
      "name": "python",
      "nbconvert_exporter": "python",
      "pygments_lexer": "ipython3",
      "version": "3.8"
    }
  },
  "nbformat_minor": 4,
  "nbformat": 4,
  "cells": [
    {
      "cell_type": "markdown",
      "source": "# Robin Hood: \nWe're in the middle of the competition to win the archery contest in Sherwood. With our bow and arrows we shoot at a target and try to hit as much as possible in the center.\n\nThe center of the target is represented by the values ​​(0, 0) on the coordinate axes. \n\n## Description: \nIn 2-dimensional space a point can be defined by a pair of values ​​that correspond to the horizontal (x) and vertical (y) coordinates. The space can be divided into 4 zones (quadrants): Q1, Q2, Q3, Q4. Whose unique joining point is the point (0, 0).\n\nIf a point is in Q1, both its x and y coordinates are positive. I leave you a link to wikipedia so you can familiarize yourself with these quadrants.\n\nhttps://es.wikipedia.org/wiki/Coordenadas_cartesianas\n\nhttps://es.wikipedia.org/wiki/Distancia_euclidiana\n\n## Objectives: \n* data structures: lists, sets, tuples\n* logical operators: if-elif-else\n* loop: while/for\n* calculation of minimum (optional sorting)\n\n## Tasks\n1. Robin Hood is famous for hitting an arrow with another arrow. Have you got it?\n2. Calculate how many arrows have fallen in each quadrant.\n3. Find the point closest to the center. Calculate its distance from the center\n4. If the target has a radius of 9, calculate the number of arrows that must be collected from the forest.\n\n## Solution:",
      "metadata": {}
    },
    {
      "cell_type": "code",
      "source": "puntos = [(4,5), (-0,2), (4,7), (1,-3), (3,-2), (4,5), (3,2), (5,7), (-5,7), (2,2), (-4,5), (0,-2), (-4,7), (-1,3), (-3,2), (-4,-5), (-3,2), \n          (5,7), (5,7), (2,2), (9, 9), (-8, -9)]\n#1. Robin Hood is famous for hitting an arrow with another arrow. Has he got it?\nres = set([point for point in points if points.count(point) > 1])\nprint(\"Robin Hood hitted this arrow with another arrow : \" + str(res))\n# 2. Calculate how many arrows have fallen in each quadrant.\nq1 = []\nq2 = []\nq3 = []\nq4 = []\ncenter = 0\nshot1, shot2 = zip(*points)\nfor point in range(len(shot1)):\n    if (shot1[point] >= 0 and shot2[point] >= 0):\n        q1.append(point)\n    elif (shot1[point] < 0 and shot2[point] >= 0):\n        q2.append(point)\n    elif (shot1[point] < 0 and shot2[point] < 0):\n        q3.append(point)\n    elif (shot1[point] >= 0 and shot2[point] < 0):\n        q4.append(point)\nprint('\\nShots in quadrant 1 = ', len(q1))\nprint('Shots in quadrant 2 = ', len(q2))\nprint('Shots in quadrant 3 = ', len(q3))\nprint('Shots in quadrant 4 = ', len(q4))\n# 3. Find the closest point to the center. Calculate its distance from the center\n# Defining a function that calculates the distance to the center can help.\n\n\n# 4. If the target has a radius of 9, calculate the number of arrows to collect from the forest.\n\n",
      "metadata": {
        "trusted": true
      },
      "execution_count": 5,
      "outputs": [
        {
          "name": "stdout",
          "text": "Robin Hood hitted this arrow with another arrow : {(4, 5), (5, 7), (2, 2), (-3, 2)}\n\nShots in quadrant 1 =  11\nShots in quadrant 2 =  6\nShots in quadrant 3 =  2\nShots in quadrant 4 =  3\n",
          "output_type": "stream"
        }
      ]
    },
    {
      "cell_type": "code",
      "source": "",
      "metadata": {},
      "execution_count": null,
      "outputs": []
    }
  ]
}